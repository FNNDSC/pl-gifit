{
 "cells": [
  {
   "cell_type": "code",
   "execution_count": 8,
   "id": "initial_id",
   "metadata": {
    "collapsed": true,
    "ExecuteTime": {
     "end_time": "2023-10-06T17:37:35.767269976Z",
     "start_time": "2023-10-06T17:37:35.726781073Z"
    }
   },
   "outputs": [],
   "source": [
    "from collections import defaultdict\n",
    "import importlib\n",
    "from pathlib import Path\n",
    "import pandas as pd\n",
    "\n",
    "# _MODEL_PATH = Path(str(importlib.resources.files(__package__).joinpath('model.csv')))\n",
    "_MODEL_PARAM_TYPES: defaultdict[str, type] = defaultdict(lambda: str)\n",
    "_MODEL_PARAM_TYPES['approximate_age'] = int\n",
    "_MODEL_PARAM_TYPES['stage'] = int\n",
    "_MODEL_PARAM_TYPES['gyrification_index'] = float\n",
    "\n",
    "df = pd.read_csv('model.csv', dtype=_MODEL_PARAM_TYPES)"
   ]
  },
  {
   "cell_type": "code",
   "execution_count": 9,
   "outputs": [
    {
     "data": {
      "text/plain": "    approximate_age surface_area  gyrification_index  stage iso_value   size  \\\n0                25         9500                1.00      0        10  20480   \n1                26        10000                1.02      0        10  20480   \n2                26        10000                1.02      1        10  20480   \n3                27        10000                1.05      0        10  20480   \n4                27        10000                1.05      1        10  20480   \n5                28        10000                1.07      0        10  20480   \n6                28        10000                1.07      1        10  20480   \n7                29        10000                1.12      0        10  20480   \n8                29        10000                1.12      1        10  20480   \n9                30        10000                1.17      0        10  20480   \n10               30        10000                1.17      1        10  20480   \n11               31        10000                1.20      0        10  20480   \n12               31        10000                1.20      1        10  20480   \n\n   iter_outer iter_inner step_size laplacian_weight stretch_weight  \\\n0         600        100       0.2         0.000002            300   \n1         300        100       0.2           0.0002            200   \n2         300        100       0.2         0.000002            200   \n3         300        100       0.2          0.00001            200   \n4         300        100       0.2         0.000002            200   \n5         300        100       0.2           0.0002            200   \n6         300        100       0.2         0.000002            200   \n7         300        100       0.2          0.00001            100   \n8         300        100       0.2          0.00005            100   \n9         300        100       0.2         0.000002            100   \n10        300        100       0.2         0.000002             50   \n11        300        100       0.2         0.000002            100   \n12        300        100       0.2         0.000002             50   \n\n   self_weight self_dist oversample taubin                       comments  \n0          0.5     0.005          0     10  Brains 23-25 clumped together  \n1          0.5     0.005          0     10                            NaN  \n2          0.5     0.005          0     10                            NaN  \n3          0.5     0.005          0     10                            NaN  \n4          0.5     0.005          0     10                            NaN  \n5          0.5     0.005          0     10                            NaN  \n6          0.5     0.005          0     10                            NaN  \n7          0.5     0.005          0     10                            NaN  \n8          0.5     0.005          0     10                            NaN  \n9          0.5     0.005          0     10                            NaN  \n10         0.5     0.005          0     10                            NaN  \n11         0.5     0.005          0     10                            NaN  \n12         0.5     0.005          0     10                            NaN  ",
      "text/html": "<div>\n<style scoped>\n    .dataframe tbody tr th:only-of-type {\n        vertical-align: middle;\n    }\n\n    .dataframe tbody tr th {\n        vertical-align: top;\n    }\n\n    .dataframe thead th {\n        text-align: right;\n    }\n</style>\n<table border=\"1\" class=\"dataframe\">\n  <thead>\n    <tr style=\"text-align: right;\">\n      <th></th>\n      <th>approximate_age</th>\n      <th>surface_area</th>\n      <th>gyrification_index</th>\n      <th>stage</th>\n      <th>iso_value</th>\n      <th>size</th>\n      <th>iter_outer</th>\n      <th>iter_inner</th>\n      <th>step_size</th>\n      <th>laplacian_weight</th>\n      <th>stretch_weight</th>\n      <th>self_weight</th>\n      <th>self_dist</th>\n      <th>oversample</th>\n      <th>taubin</th>\n      <th>comments</th>\n    </tr>\n  </thead>\n  <tbody>\n    <tr>\n      <th>0</th>\n      <td>25</td>\n      <td>9500</td>\n      <td>1.00</td>\n      <td>0</td>\n      <td>10</td>\n      <td>20480</td>\n      <td>600</td>\n      <td>100</td>\n      <td>0.2</td>\n      <td>0.000002</td>\n      <td>300</td>\n      <td>0.5</td>\n      <td>0.005</td>\n      <td>0</td>\n      <td>10</td>\n      <td>Brains 23-25 clumped together</td>\n    </tr>\n    <tr>\n      <th>1</th>\n      <td>26</td>\n      <td>10000</td>\n      <td>1.02</td>\n      <td>0</td>\n      <td>10</td>\n      <td>20480</td>\n      <td>300</td>\n      <td>100</td>\n      <td>0.2</td>\n      <td>0.0002</td>\n      <td>200</td>\n      <td>0.5</td>\n      <td>0.005</td>\n      <td>0</td>\n      <td>10</td>\n      <td>NaN</td>\n    </tr>\n    <tr>\n      <th>2</th>\n      <td>26</td>\n      <td>10000</td>\n      <td>1.02</td>\n      <td>1</td>\n      <td>10</td>\n      <td>20480</td>\n      <td>300</td>\n      <td>100</td>\n      <td>0.2</td>\n      <td>0.000002</td>\n      <td>200</td>\n      <td>0.5</td>\n      <td>0.005</td>\n      <td>0</td>\n      <td>10</td>\n      <td>NaN</td>\n    </tr>\n    <tr>\n      <th>3</th>\n      <td>27</td>\n      <td>10000</td>\n      <td>1.05</td>\n      <td>0</td>\n      <td>10</td>\n      <td>20480</td>\n      <td>300</td>\n      <td>100</td>\n      <td>0.2</td>\n      <td>0.00001</td>\n      <td>200</td>\n      <td>0.5</td>\n      <td>0.005</td>\n      <td>0</td>\n      <td>10</td>\n      <td>NaN</td>\n    </tr>\n    <tr>\n      <th>4</th>\n      <td>27</td>\n      <td>10000</td>\n      <td>1.05</td>\n      <td>1</td>\n      <td>10</td>\n      <td>20480</td>\n      <td>300</td>\n      <td>100</td>\n      <td>0.2</td>\n      <td>0.000002</td>\n      <td>200</td>\n      <td>0.5</td>\n      <td>0.005</td>\n      <td>0</td>\n      <td>10</td>\n      <td>NaN</td>\n    </tr>\n    <tr>\n      <th>5</th>\n      <td>28</td>\n      <td>10000</td>\n      <td>1.07</td>\n      <td>0</td>\n      <td>10</td>\n      <td>20480</td>\n      <td>300</td>\n      <td>100</td>\n      <td>0.2</td>\n      <td>0.0002</td>\n      <td>200</td>\n      <td>0.5</td>\n      <td>0.005</td>\n      <td>0</td>\n      <td>10</td>\n      <td>NaN</td>\n    </tr>\n    <tr>\n      <th>6</th>\n      <td>28</td>\n      <td>10000</td>\n      <td>1.07</td>\n      <td>1</td>\n      <td>10</td>\n      <td>20480</td>\n      <td>300</td>\n      <td>100</td>\n      <td>0.2</td>\n      <td>0.000002</td>\n      <td>200</td>\n      <td>0.5</td>\n      <td>0.005</td>\n      <td>0</td>\n      <td>10</td>\n      <td>NaN</td>\n    </tr>\n    <tr>\n      <th>7</th>\n      <td>29</td>\n      <td>10000</td>\n      <td>1.12</td>\n      <td>0</td>\n      <td>10</td>\n      <td>20480</td>\n      <td>300</td>\n      <td>100</td>\n      <td>0.2</td>\n      <td>0.00001</td>\n      <td>100</td>\n      <td>0.5</td>\n      <td>0.005</td>\n      <td>0</td>\n      <td>10</td>\n      <td>NaN</td>\n    </tr>\n    <tr>\n      <th>8</th>\n      <td>29</td>\n      <td>10000</td>\n      <td>1.12</td>\n      <td>1</td>\n      <td>10</td>\n      <td>20480</td>\n      <td>300</td>\n      <td>100</td>\n      <td>0.2</td>\n      <td>0.00005</td>\n      <td>100</td>\n      <td>0.5</td>\n      <td>0.005</td>\n      <td>0</td>\n      <td>10</td>\n      <td>NaN</td>\n    </tr>\n    <tr>\n      <th>9</th>\n      <td>30</td>\n      <td>10000</td>\n      <td>1.17</td>\n      <td>0</td>\n      <td>10</td>\n      <td>20480</td>\n      <td>300</td>\n      <td>100</td>\n      <td>0.2</td>\n      <td>0.000002</td>\n      <td>100</td>\n      <td>0.5</td>\n      <td>0.005</td>\n      <td>0</td>\n      <td>10</td>\n      <td>NaN</td>\n    </tr>\n    <tr>\n      <th>10</th>\n      <td>30</td>\n      <td>10000</td>\n      <td>1.17</td>\n      <td>1</td>\n      <td>10</td>\n      <td>20480</td>\n      <td>300</td>\n      <td>100</td>\n      <td>0.2</td>\n      <td>0.000002</td>\n      <td>50</td>\n      <td>0.5</td>\n      <td>0.005</td>\n      <td>0</td>\n      <td>10</td>\n      <td>NaN</td>\n    </tr>\n    <tr>\n      <th>11</th>\n      <td>31</td>\n      <td>10000</td>\n      <td>1.20</td>\n      <td>0</td>\n      <td>10</td>\n      <td>20480</td>\n      <td>300</td>\n      <td>100</td>\n      <td>0.2</td>\n      <td>0.000002</td>\n      <td>100</td>\n      <td>0.5</td>\n      <td>0.005</td>\n      <td>0</td>\n      <td>10</td>\n      <td>NaN</td>\n    </tr>\n    <tr>\n      <th>12</th>\n      <td>31</td>\n      <td>10000</td>\n      <td>1.20</td>\n      <td>1</td>\n      <td>10</td>\n      <td>20480</td>\n      <td>300</td>\n      <td>100</td>\n      <td>0.2</td>\n      <td>0.000002</td>\n      <td>50</td>\n      <td>0.5</td>\n      <td>0.005</td>\n      <td>0</td>\n      <td>10</td>\n      <td>NaN</td>\n    </tr>\n  </tbody>\n</table>\n</div>"
     },
     "execution_count": 9,
     "metadata": {},
     "output_type": "execute_result"
    }
   ],
   "source": [
    "df"
   ],
   "metadata": {
    "collapsed": false,
    "ExecuteTime": {
     "end_time": "2023-10-06T17:37:36.089816499Z",
     "start_time": "2023-10-06T17:37:36.082719861Z"
    }
   },
   "id": "cff3fca69cef3ab7"
  },
  {
   "cell_type": "code",
   "execution_count": 10,
   "outputs": [
    {
     "data": {
      "text/plain": "Index(['approximate_age', 'surface_area', 'gyrification_index', 'stage',\n       'iso_value', 'size', 'iter_outer', 'iter_inner', 'step_size',\n       'laplacian_weight', 'stretch_weight', 'self_weight', 'self_dist',\n       'oversample', 'taubin', 'comments'],\n      dtype='object')"
     },
     "execution_count": 10,
     "metadata": {},
     "output_type": "execute_result"
    }
   ],
   "source": [
    "df.columns"
   ],
   "metadata": {
    "collapsed": false,
    "ExecuteTime": {
     "end_time": "2023-10-06T17:37:44.468236878Z",
     "start_time": "2023-10-06T17:37:44.460063777Z"
    }
   },
   "id": "373d9859dc146d9b"
  },
  {
   "cell_type": "code",
   "execution_count": 12,
   "outputs": [
    {
     "name": "stdout",
     "output_type": "stream",
     "text": [
      "Pandas(Index=0, approximate_age=25, surface_area='9500', gyrification_index=1.0, stage=0, iso_value='10', size='20480', iter_outer='600', iter_inner='100', step_size='0.2', laplacian_weight='0.000002', stretch_weight='300', self_weight='0.5', self_dist='0.005', oversample='0', taubin='10', comments='Brains 23-25 clumped together')\n",
      "Pandas(Index=1, approximate_age=26, surface_area='10000', gyrification_index=1.02, stage=0, iso_value='10', size='20480', iter_outer='300', iter_inner='100', step_size='0.2', laplacian_weight='0.0002', stretch_weight='200', self_weight='0.5', self_dist='0.005', oversample='0', taubin='10', comments=nan)\n",
      "Pandas(Index=2, approximate_age=26, surface_area='10000', gyrification_index=1.02, stage=1, iso_value='10', size='20480', iter_outer='300', iter_inner='100', step_size='0.2', laplacian_weight='0.000002', stretch_weight='200', self_weight='0.5', self_dist='0.005', oversample='0', taubin='10', comments=nan)\n",
      "Pandas(Index=3, approximate_age=27, surface_area='10000', gyrification_index=1.05, stage=0, iso_value='10', size='20480', iter_outer='300', iter_inner='100', step_size='0.2', laplacian_weight='0.00001', stretch_weight='200', self_weight='0.5', self_dist='0.005', oversample='0', taubin='10', comments=nan)\n",
      "Pandas(Index=4, approximate_age=27, surface_area='10000', gyrification_index=1.05, stage=1, iso_value='10', size='20480', iter_outer='300', iter_inner='100', step_size='0.2', laplacian_weight='0.000002', stretch_weight='200', self_weight='0.5', self_dist='0.005', oversample='0', taubin='10', comments=nan)\n",
      "Pandas(Index=5, approximate_age=28, surface_area='10000', gyrification_index=1.07, stage=0, iso_value='10', size='20480', iter_outer='300', iter_inner='100', step_size='0.2', laplacian_weight='0.0002', stretch_weight='200', self_weight='0.5', self_dist='0.005', oversample='0', taubin='10', comments=nan)\n",
      "Pandas(Index=6, approximate_age=28, surface_area='10000', gyrification_index=1.07, stage=1, iso_value='10', size='20480', iter_outer='300', iter_inner='100', step_size='0.2', laplacian_weight='0.000002', stretch_weight='200', self_weight='0.5', self_dist='0.005', oversample='0', taubin='10', comments=nan)\n",
      "Pandas(Index=7, approximate_age=29, surface_area='10000', gyrification_index=1.12, stage=0, iso_value='10', size='20480', iter_outer='300', iter_inner='100', step_size='0.2', laplacian_weight='0.00001', stretch_weight='100', self_weight='0.5', self_dist='0.005', oversample='0', taubin='10', comments=nan)\n",
      "Pandas(Index=8, approximate_age=29, surface_area='10000', gyrification_index=1.12, stage=1, iso_value='10', size='20480', iter_outer='300', iter_inner='100', step_size='0.2', laplacian_weight='0.00005', stretch_weight='100', self_weight='0.5', self_dist='0.005', oversample='0', taubin='10', comments=nan)\n",
      "Pandas(Index=9, approximate_age=30, surface_area='10000', gyrification_index=1.17, stage=0, iso_value='10', size='20480', iter_outer='300', iter_inner='100', step_size='0.2', laplacian_weight='0.000002', stretch_weight='100', self_weight='0.5', self_dist='0.005', oversample='0', taubin='10', comments=nan)\n",
      "Pandas(Index=10, approximate_age=30, surface_area='10000', gyrification_index=1.17, stage=1, iso_value='10', size='20480', iter_outer='300', iter_inner='100', step_size='0.2', laplacian_weight='0.000002', stretch_weight='50', self_weight='0.5', self_dist='0.005', oversample='0', taubin='10', comments=nan)\n",
      "Pandas(Index=11, approximate_age=31, surface_area='10000', gyrification_index=1.2, stage=0, iso_value='10', size='20480', iter_outer='300', iter_inner='100', step_size='0.2', laplacian_weight='0.000002', stretch_weight='100', self_weight='0.5', self_dist='0.005', oversample='0', taubin='10', comments=nan)\n",
      "Pandas(Index=12, approximate_age=31, surface_area='10000', gyrification_index=1.2, stage=1, iso_value='10', size='20480', iter_outer='300', iter_inner='100', step_size='0.2', laplacian_weight='0.000002', stretch_weight='50', self_weight='0.5', self_dist='0.005', oversample='0', taubin='10', comments=nan)\n"
     ]
    }
   ],
   "source": [
    "for a in df.itertuples():\n",
    "    print(a.)"
   ],
   "metadata": {
    "collapsed": false,
    "ExecuteTime": {
     "end_time": "2023-10-06T17:38:47.792823300Z",
     "start_time": "2023-10-06T17:38:47.784053922Z"
    }
   },
   "id": "37d184a473ff26f2"
  },
  {
   "cell_type": "code",
   "execution_count": 13,
   "outputs": [],
   "source": [
    "from innerspfit.model import SurfaceFitParams\n"
   ],
   "metadata": {
    "collapsed": false,
    "ExecuteTime": {
     "end_time": "2023-10-06T17:39:59.747165077Z",
     "start_time": "2023-10-06T17:39:59.705368979Z"
    }
   },
   "id": "b00fc336d95e6b6f"
  },
  {
   "cell_type": "code",
   "execution_count": 14,
   "outputs": [],
   "source": [
    "import dataclasses"
   ],
   "metadata": {
    "collapsed": false,
    "ExecuteTime": {
     "end_time": "2023-10-06T17:40:14.208898120Z",
     "start_time": "2023-10-06T17:40:14.193589536Z"
    }
   },
   "id": "a5b5d515bd0d48cc"
  },
  {
   "cell_type": "code",
   "execution_count": 16,
   "outputs": [
    {
     "data": {
      "text/plain": "['size',\n 'stretch_weight',\n 'laplacian_weight',\n 'iter_outer',\n 'iter_inner',\n 'iso_value',\n 'step_size',\n 'oversample',\n 'self_dist',\n 'self_weight',\n 'taubin']"
     },
     "execution_count": 16,
     "metadata": {},
     "output_type": "execute_result"
    }
   ],
   "source": [
    "[f.name for f in dataclasses.fields(SurfaceFitParams)]"
   ],
   "metadata": {
    "collapsed": false,
    "ExecuteTime": {
     "end_time": "2023-10-06T17:40:33.807255877Z",
     "start_time": "2023-10-06T17:40:33.766391429Z"
    }
   },
   "id": "ae3722ca7db80dd3"
  },
  {
   "cell_type": "code",
   "execution_count": null,
   "outputs": [],
   "source": [],
   "metadata": {
    "collapsed": false
   },
   "id": "5c29a94ec36e11aa"
  }
 ],
 "metadata": {
  "kernelspec": {
   "display_name": "Python 3",
   "language": "python",
   "name": "python3"
  },
  "language_info": {
   "codemirror_mode": {
    "name": "ipython",
    "version": 2
   },
   "file_extension": ".py",
   "mimetype": "text/x-python",
   "name": "python",
   "nbconvert_exporter": "python",
   "pygments_lexer": "ipython2",
   "version": "2.7.6"
  }
 },
 "nbformat": 4,
 "nbformat_minor": 5
}
